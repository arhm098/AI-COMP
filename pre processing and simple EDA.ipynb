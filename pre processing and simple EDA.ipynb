{
  "nbformat": 4,
  "nbformat_minor": 0,
  "metadata": {
    "colab": {
      "provenance": [],
      "gpuType": "T4"
    },
    "kernelspec": {
      "name": "python3",
      "display_name": "Python 3"
    },
    "language_info": {
      "name": "python"
    },
    "accelerator": "GPU"
  },
  "cells": [
    {
      "cell_type": "code",
      "execution_count": 1,
      "metadata": {
        "colab": {
          "base_uri": "https://localhost:8080/"
        },
        "id": "kZHvVIKNux-0",
        "outputId": "423a8a7f-28a9-4d7e-fb3d-c8d6755b20e8"
      },
      "outputs": [
        {
          "output_type": "stream",
          "name": "stdout",
          "text": [
            "Mounted at /content/drive\n"
          ]
        }
      ],
      "source": [
        "from google.colab import drive\n",
        "drive.mount('/content/drive')"
      ]
    },
    {
      "cell_type": "code",
      "source": [
        "!pip install kaggle\n"
      ],
      "metadata": {
        "id": "mFRssyrYvtwE"
      },
      "execution_count": null,
      "outputs": []
    },
    {
      "cell_type": "code",
      "source": [
        "import os\n",
        "os.environ['KAGGLE_CONFIG_DIR'] = '/content'"
      ],
      "metadata": {
        "id": "MSyzxzgNvwXQ"
      },
      "execution_count": 13,
      "outputs": []
    },
    {
      "cell_type": "code",
      "source": [
        "!kaggle competitions download -c financeinsight-challenge"
      ],
      "metadata": {
        "colab": {
          "base_uri": "https://localhost:8080/"
        },
        "id": "T9i9oPBavyS1",
        "outputId": "10651573-a2e6-441d-f16d-2171aae106da"
      },
      "execution_count": 14,
      "outputs": [
        {
          "output_type": "stream",
          "name": "stdout",
          "text": [
            "Warning: Your Kaggle API key is readable by other users on this system! To fix this, you can run 'chmod 600 /content/kaggle.json'\n",
            "Downloading financeinsight-challenge.zip to /content\n",
            " 75% 56.0M/74.5M [00:00<00:00, 206MB/s]\n",
            "100% 74.5M/74.5M [00:00<00:00, 192MB/s]\n"
          ]
        }
      ]
    },
    {
      "cell_type": "code",
      "source": [
        "import zipfile\n",
        "\n",
        "# Specify the name of the uploaded zip file\n",
        "zip_filename = '/content/financeinsight-challenge.zip'\n",
        "\n",
        "# Specify the directory where you want to extract the contents\n",
        "extract_dir = '/content/financeinsight-challenge'\n",
        "\n",
        "try:\n",
        "    with zipfile.ZipFile(zip_filename, 'r') as zip_ref:\n",
        "        zip_ref.extractall(extract_dir)\n",
        "    print(\"Extraction successful.\")\n",
        "except zipfile.BadZipFile:\n",
        "    print(\"Error: BadZipFile - File is not a valid zip file.\")\n",
        "except Exception as e:\n",
        "    print(f\"An error occurred: {e}\")\n"
      ],
      "metadata": {
        "colab": {
          "base_uri": "https://localhost:8080/"
        },
        "id": "9_RvM-_9v1JM",
        "outputId": "1933b678-f5a2-4949-94ad-7584cae4c16b"
      },
      "execution_count": 9,
      "outputs": [
        {
          "output_type": "stream",
          "name": "stdout",
          "text": [
            "Error: BadZipFile - File is not a valid zip file.\n"
          ]
        }
      ]
    },
    {
      "cell_type": "code",
      "source": [
        "import zipfile\n",
        "zip_ref = zipfile.ZipFile('/content/financeinsight-challenge.zip', 'r')\n",
        "zip_ref.extractall('/content')\n",
        "zip_ref.close()"
      ],
      "metadata": {
        "id": "prTzYbPLxWBZ"
      },
      "execution_count": 15,
      "outputs": []
    },
    {
      "cell_type": "code",
      "source": [
        "import pandas as pd"
      ],
      "metadata": {
        "id": "XHw8Qk4gydE-"
      },
      "execution_count": 17,
      "outputs": []
    },
    {
      "cell_type": "code",
      "source": [
        "df_1 = pd.read_csv(\"/content/AICP_TechFest_ML_Comp_FinanceInsight_1/AICP_TechFest_ML_Comp_FinanceInsight_1.csv\")"
      ],
      "metadata": {
        "id": "EaQmoFYi0Zfc"
      },
      "execution_count": 21,
      "outputs": []
    },
    {
      "cell_type": "code",
      "source": [
        "df_1.info()"
      ],
      "metadata": {
        "colab": {
          "base_uri": "https://localhost:8080/"
        },
        "id": "gm1VAB_i0nZz",
        "outputId": "2ea1124e-59cd-462f-837a-e671dd6d0db3"
      },
      "execution_count": 23,
      "outputs": [
        {
          "output_type": "stream",
          "name": "stdout",
          "text": [
            "<class 'pandas.core.frame.DataFrame'>\n",
            "RangeIndex: 1942 entries, 0 to 1941\n",
            "Data columns (total 10 columns):\n",
            " #   Column                          Non-Null Count  Dtype  \n",
            "---  ------                          --------------  -----  \n",
            " 0   NAIC                            1942 non-null   int64  \n",
            " 1   Company Name                    1942 non-null   object \n",
            " 2   Ratio                           1942 non-null   float64\n",
            " 3   Upheld Complaints               1942 non-null   int64  \n",
            " 4   Question of Fact Complaints     1942 non-null   int64  \n",
            " 5   Not Upheld Complaints           1942 non-null   int64  \n",
            " 6   Total Complaints                1942 non-null   int64  \n",
            " 7   Premiums Written (in Millions)  1942 non-null   float64\n",
            " 8   Rank                            1942 non-null   int64  \n",
            " 9   Filing Year                     1942 non-null   int64  \n",
            "dtypes: float64(2), int64(7), object(1)\n",
            "memory usage: 151.8+ KB\n"
          ]
        }
      ]
    },
    {
      "cell_type": "code",
      "source": [
        "df_2.info()"
      ],
      "metadata": {
        "colab": {
          "base_uri": "https://localhost:8080/"
        },
        "id": "8M5JuoHL1KyH",
        "outputId": "1df3ed36-10e1-4854-a434-2823ab3ad39a"
      },
      "execution_count": 25,
      "outputs": [
        {
          "output_type": "stream",
          "name": "stdout",
          "text": [
            "<class 'pandas.core.frame.DataFrame'>\n",
            "RangeIndex: 2224 entries, 0 to 2223\n",
            "Data columns (total 11 columns):\n",
            " #   Column                       Non-Null Count  Dtype \n",
            "---  ------                       --------------  ----- \n",
            " 0   Ticket #                     2224 non-null   object\n",
            " 1   Customer Complaint           2224 non-null   object\n",
            " 2   Date                         2224 non-null   object\n",
            " 3   Date_month_year              2224 non-null   object\n",
            " 4   Time                         2224 non-null   object\n",
            " 5   Received Via                 2224 non-null   object\n",
            " 6   City                         2224 non-null   object\n",
            " 7   State                        2224 non-null   object\n",
            " 8   Zip code                     2224 non-null   int64 \n",
            " 9   Status                       2224 non-null   object\n",
            " 10  Filing on Behalf of Someone  2224 non-null   object\n",
            "dtypes: int64(1), object(10)\n",
            "memory usage: 191.2+ KB\n"
          ]
        }
      ]
    },
    {
      "cell_type": "code",
      "source": [
        "df_3 = pd.read_csv(\"/content/AICP_TechFest_ML_Comp_FinanceInsight_3/AICP_TechFest_ML_Comp_FinanceInsight_3.csv\")"
      ],
      "metadata": {
        "id": "nT9kHPUz1QoC"
      },
      "execution_count": 28,
      "outputs": []
    },
    {
      "cell_type": "code",
      "source": [
        "df_3.info()"
      ],
      "metadata": {
        "colab": {
          "base_uri": "https://localhost:8080/"
        },
        "id": "h0vxGCZM1XqP",
        "outputId": "6e58dca5-10a1-4991-be14-baa8074bb3f6"
      },
      "execution_count": 29,
      "outputs": [
        {
          "output_type": "stream",
          "name": "stdout",
          "text": [
            "<class 'pandas.core.frame.DataFrame'>\n",
            "RangeIndex: 536478 entries, 0 to 536477\n",
            "Data columns (total 28 columns):\n",
            " #   Column                        Non-Null Count   Dtype \n",
            "---  ------                        --------------   ----- \n",
            " 0   Date_received                 536478 non-null  object\n",
            " 1   Product                       536478 non-null  object\n",
            " 2   Sub-product                   377970 non-null  object\n",
            " 3   Issue                         536478 non-null  object\n",
            " 4   Sub-issue                     216011 non-null  object\n",
            " 5   Consumer_complaint_narrative  91689 non-null   object\n",
            " 6   Company_public_response       116023 non-null  object\n",
            " 7   Company                       536478 non-null  object\n",
            " 8   State                         532215 non-null  object\n",
            " 9   ZIP_code                      532198 non-null  object\n",
            " 10  Tags                          76817 non-null   object\n",
            " 11  Consumer_consent_provided?    167936 non-null  object\n",
            " 12  Submitted_via                 536478 non-null  object\n",
            " 13  Date_sent_to_company          536478 non-null  object\n",
            " 14  Company_response_to_consumer  536478 non-null  object\n",
            " 15  Timely_response?              536478 non-null  object\n",
            " 16  Consumer_disputed?            503430 non-null  object\n",
            " 17  Complaint_ID                  536478 non-null  int64 \n",
            " 18  Industry_Risk                 536478 non-null  object\n",
            " 19  Resolution_Type               536478 non-null  object\n",
            " 20  Transaction_Method            536478 non-null  object\n",
            " 21  Communication_Channel         536478 non-null  object\n",
            " 22  Satisfaction_Level            536478 non-null  object\n",
            " 23  Customer_Type                 536478 non-null  object\n",
            " 24  Payment_Method                536478 non-null  object\n",
            " 25  Contact_Channel               536478 non-null  object\n",
            " 26  Resolution_Status             536478 non-null  object\n",
            " 27  Feedback_Type                 536478 non-null  object\n",
            "dtypes: int64(1), object(27)\n",
            "memory usage: 114.6+ MB\n"
          ]
        }
      ]
    },
    {
      "cell_type": "code",
      "source": [
        "df_3['Product'].unique()"
      ],
      "metadata": {
        "colab": {
          "base_uri": "https://localhost:8080/"
        },
        "id": "TpfuYgEEhyzW",
        "outputId": "08c53a63-bcf2-498e-e17c-7d9451480ff6"
      },
      "execution_count": 31,
      "outputs": [
        {
          "output_type": "execute_result",
          "data": {
            "text/plain": [
              "array(['Mortgage', 'Credit card', 'Bank account or service',\n",
              "       'Money transfers', 'Prepaid card', 'Credit reporting',\n",
              "       'Debt collection', 'Student loan', 'Consumer Loan', 'Payday loan',\n",
              "       'Other financial service', 'Virtual currency'], dtype=object)"
            ]
          },
          "metadata": {},
          "execution_count": 31
        }
      ]
    },
    {
      "cell_type": "code",
      "source": [
        "unique_cols = [\n",
        "    \"Feedback_Type\", #ord\n",
        "    \"Resolution_Status\", #ord Y\n",
        "    \"Contact_Channel\", #cat\n",
        "    \"Payment_Method\", #cat\n",
        "    \"Customer_Type\", #cat\n",
        "    \"Satisfaction_Level\", #ord\n",
        "    \"Communication_Channel\", #cat\n",
        "    \"Transaction_Method\", #cat\n",
        "    \"Resolution_Type\", #cat Y\n",
        "    \"Industry_Risk\", #ord\n",
        "    \"Consumer_disputed?\", #ord with nan\n",
        "    \"Timely_response?\", #ord\n",
        "    \"Company_response_to_consumer\", #cat\n",
        "    \"Submitted_via\" , #cat dont know it this should be kept\n",
        "    \"Consumer_consent_provided?\", #cat with nulls\n",
        "    \"Tags\", #cat mayber demographic\n",
        "    \"Company\", #drop\n",
        "    \"Company_public_response\", #possible Y\n",
        "    \"Consumer_complaint_narrative\", #texty textyy\n",
        "    \"Sub-issue\", #texty texty\n",
        "    \"Issue\", #texty texty\n",
        "    \"Sub-product\", #texty texty\n",
        "    \"Product\", #cat\n",
        "]"
      ],
      "metadata": {
        "id": "0KCj7GEe5PGZ"
      },
      "execution_count": 87,
      "outputs": []
    },
    {
      "cell_type": "code",
      "source": [
        "df_3['Consumer_complaint_narrative'].value_counts()"
      ],
      "metadata": {
        "id": "BrKf13ZW4MvP"
      },
      "execution_count": null,
      "outputs": []
    },
    {
      "cell_type": "code",
      "source": [
        "import pandas as pd\n",
        "import seaborn as sns\n",
        "import matplotlib.pyplot as plt"
      ],
      "metadata": {
        "id": "-HiFS7233ECN"
      },
      "execution_count": 2,
      "outputs": []
    },
    {
      "cell_type": "code",
      "source": [
        "# Convert text columns to numerical (you might need to use different encoding based on your data)\n",
        "for column in df_3.select_dtypes(include='object').columns:\n",
        "    df_3[column] = df_3[column].astype('category').cat.codes\n",
        "\n",
        "# Calculate the covariance matrix\n",
        "covariance_matrix = df_3.cov()\n",
        "\n",
        "# Create a heatmap using seaborn\n",
        "plt.figure(figsize=(15, 13))\n",
        "sns.heatmap(covariance_matrix, annot=True, cmap='coolwarm', fmt='.2f', linewidths=.5)\n",
        "plt.title('Covariance Matrix Heatmap')\n",
        "plt.show()"
      ],
      "metadata": {
        "id": "aWxCWeVl1ZPW"
      },
      "execution_count": null,
      "outputs": []
    },
    {
      "cell_type": "markdown",
      "source": [
        "# PREPROCESSING"
      ],
      "metadata": {
        "id": "Guviq03WZjJ4"
      }
    },
    {
      "cell_type": "code",
      "source": [
        "!pip install gensim\n"
      ],
      "metadata": {
        "colab": {
          "base_uri": "https://localhost:8080/"
        },
        "id": "eff0NyZgmGsg",
        "outputId": "9e383d1c-7f7f-4925-c33a-313cee1843d9"
      },
      "execution_count": 38,
      "outputs": [
        {
          "output_type": "stream",
          "name": "stdout",
          "text": [
            "Requirement already satisfied: gensim in /usr/local/lib/python3.10/dist-packages (4.3.2)\n",
            "Requirement already satisfied: numpy>=1.18.5 in /usr/local/lib/python3.10/dist-packages (from gensim) (1.23.5)\n",
            "Requirement already satisfied: scipy>=1.7.0 in /usr/local/lib/python3.10/dist-packages (from gensim) (1.11.4)\n",
            "Requirement already satisfied: smart-open>=1.8.1 in /usr/local/lib/python3.10/dist-packages (from gensim) (6.4.0)\n"
          ]
        }
      ]
    },
    {
      "cell_type": "code",
      "source": [
        "from sklearn.preprocessing import LabelEncoder\n",
        "from gensim.models import Doc2Vec\n",
        "from gensim.models.doc2vec import TaggedDocument\n",
        "import pandas as pd\n",
        "\n",
        "from sklearn.preprocessing import LabelEncoder\n",
        "df_3 = pd.read_csv(\"/content/AICP_TechFest_ML_Comp_FinanceInsight_3/AICP_TechFest_ML_Comp_FinanceInsight_3.csv\")\n",
        "df = df_3\n",
        "\n",
        "df = df_3.copy()  # Copy the dataframe to avoid modifying the original dataframe\n",
        "\n",
        "columns_to_drop = [\n",
        "    'Resolution_Status', 'Industry_Risk', 'Resolution_Type',\n",
        "    'Communication_Channel', 'Satisfaction_Level', 'Customer_Type',\n",
        "    'Payment_Method', 'Contact_Channel', 'Feedback_Type', 'Tags'\n",
        "]\n",
        "df.drop(columns=columns_to_drop, inplace=True)\n",
        "\n",
        "# dropping textual data\n",
        "textual_columns = ['Consumer_complaint_narrative', 'Sub-issue', 'Issue', 'Sub-product']\n",
        "df_text = df[textual_columns].copy()\n",
        "\n",
        "# dropping demographics\n",
        "columns_to_drop = [\n",
        "    'ZIP_code', 'State', 'Company', 'Date_received', 'Date_sent_to_company', 'Complaint_ID', 'Submitted_via'\n",
        "]\n",
        "df.drop(columns=columns_to_drop, inplace=True)\n",
        "\n",
        "df = df.dropna()\n",
        "\n",
        "# Create a label encoder\n",
        "label_encoder = LabelEncoder()\n",
        "\n",
        "for column in df.columns:\n",
        "    if df[column].dtype == 'object':\n",
        "        df[column] = label_encoder.fit_transform(df[column])\n",
        "\n",
        "# Create TaggedDocument for training Doc2Vec model\n",
        "documents = [TaggedDocument(words=str(text).split(), tags=[str(i)]) for i, text in enumerate(df_text['Consumer_complaint_narrative'])]\n",
        "\n",
        "# Train Doc2Vec model\n",
        "model = Doc2Vec(documents, vector_size=50, window=2, min_count=1, workers=4)\n",
        "\n",
        "# Create numerical vectors for textual columns\n",
        "for column in textual_columns:\n",
        "    df[column + '_vector'] = df_text[column].apply(lambda x: model.infer_vector(str(x).split()))\n",
        "\n",
        "df.info()\n"
      ],
      "metadata": {
        "colab": {
          "base_uri": "https://localhost:8080/"
        },
        "id": "6n5aIsG6l16D",
        "outputId": "7a6c948a-e19b-4933-d15c-6b528d34cf8c"
      },
      "execution_count": null,
      "outputs": [
        {
          "output_type": "stream",
          "name": "stderr",
          "text": [
            "<ipython-input-40-db2dfb7fb2c4>:36: SettingWithCopyWarning: \n",
            "A value is trying to be set on a copy of a slice from a DataFrame.\n",
            "Try using .loc[row_indexer,col_indexer] = value instead\n",
            "\n",
            "See the caveats in the documentation: https://pandas.pydata.org/pandas-docs/stable/user_guide/indexing.html#returning-a-view-versus-a-copy\n",
            "  df[column] = label_encoder.fit_transform(df[column])\n",
            "<ipython-input-40-db2dfb7fb2c4>:36: SettingWithCopyWarning: \n",
            "A value is trying to be set on a copy of a slice from a DataFrame.\n",
            "Try using .loc[row_indexer,col_indexer] = value instead\n",
            "\n",
            "See the caveats in the documentation: https://pandas.pydata.org/pandas-docs/stable/user_guide/indexing.html#returning-a-view-versus-a-copy\n",
            "  df[column] = label_encoder.fit_transform(df[column])\n",
            "<ipython-input-40-db2dfb7fb2c4>:36: SettingWithCopyWarning: \n",
            "A value is trying to be set on a copy of a slice from a DataFrame.\n",
            "Try using .loc[row_indexer,col_indexer] = value instead\n",
            "\n",
            "See the caveats in the documentation: https://pandas.pydata.org/pandas-docs/stable/user_guide/indexing.html#returning-a-view-versus-a-copy\n",
            "  df[column] = label_encoder.fit_transform(df[column])\n",
            "<ipython-input-40-db2dfb7fb2c4>:36: SettingWithCopyWarning: \n",
            "A value is trying to be set on a copy of a slice from a DataFrame.\n",
            "Try using .loc[row_indexer,col_indexer] = value instead\n",
            "\n",
            "See the caveats in the documentation: https://pandas.pydata.org/pandas-docs/stable/user_guide/indexing.html#returning-a-view-versus-a-copy\n",
            "  df[column] = label_encoder.fit_transform(df[column])\n",
            "<ipython-input-40-db2dfb7fb2c4>:36: SettingWithCopyWarning: \n",
            "A value is trying to be set on a copy of a slice from a DataFrame.\n",
            "Try using .loc[row_indexer,col_indexer] = value instead\n",
            "\n",
            "See the caveats in the documentation: https://pandas.pydata.org/pandas-docs/stable/user_guide/indexing.html#returning-a-view-versus-a-copy\n",
            "  df[column] = label_encoder.fit_transform(df[column])\n",
            "<ipython-input-40-db2dfb7fb2c4>:36: SettingWithCopyWarning: \n",
            "A value is trying to be set on a copy of a slice from a DataFrame.\n",
            "Try using .loc[row_indexer,col_indexer] = value instead\n",
            "\n",
            "See the caveats in the documentation: https://pandas.pydata.org/pandas-docs/stable/user_guide/indexing.html#returning-a-view-versus-a-copy\n",
            "  df[column] = label_encoder.fit_transform(df[column])\n",
            "<ipython-input-40-db2dfb7fb2c4>:36: SettingWithCopyWarning: \n",
            "A value is trying to be set on a copy of a slice from a DataFrame.\n",
            "Try using .loc[row_indexer,col_indexer] = value instead\n",
            "\n",
            "See the caveats in the documentation: https://pandas.pydata.org/pandas-docs/stable/user_guide/indexing.html#returning-a-view-versus-a-copy\n",
            "  df[column] = label_encoder.fit_transform(df[column])\n",
            "<ipython-input-40-db2dfb7fb2c4>:36: SettingWithCopyWarning: \n",
            "A value is trying to be set on a copy of a slice from a DataFrame.\n",
            "Try using .loc[row_indexer,col_indexer] = value instead\n",
            "\n",
            "See the caveats in the documentation: https://pandas.pydata.org/pandas-docs/stable/user_guide/indexing.html#returning-a-view-versus-a-copy\n",
            "  df[column] = label_encoder.fit_transform(df[column])\n",
            "<ipython-input-40-db2dfb7fb2c4>:36: SettingWithCopyWarning: \n",
            "A value is trying to be set on a copy of a slice from a DataFrame.\n",
            "Try using .loc[row_indexer,col_indexer] = value instead\n",
            "\n",
            "See the caveats in the documentation: https://pandas.pydata.org/pandas-docs/stable/user_guide/indexing.html#returning-a-view-versus-a-copy\n",
            "  df[column] = label_encoder.fit_transform(df[column])\n",
            "<ipython-input-40-db2dfb7fb2c4>:36: SettingWithCopyWarning: \n",
            "A value is trying to be set on a copy of a slice from a DataFrame.\n",
            "Try using .loc[row_indexer,col_indexer] = value instead\n",
            "\n",
            "See the caveats in the documentation: https://pandas.pydata.org/pandas-docs/stable/user_guide/indexing.html#returning-a-view-versus-a-copy\n",
            "  df[column] = label_encoder.fit_transform(df[column])\n",
            "<ipython-input-40-db2dfb7fb2c4>:36: SettingWithCopyWarning: \n",
            "A value is trying to be set on a copy of a slice from a DataFrame.\n",
            "Try using .loc[row_indexer,col_indexer] = value instead\n",
            "\n",
            "See the caveats in the documentation: https://pandas.pydata.org/pandas-docs/stable/user_guide/indexing.html#returning-a-view-versus-a-copy\n",
            "  df[column] = label_encoder.fit_transform(df[column])\n"
          ]
        }
      ]
    },
    {
      "cell_type": "code",
      "source": [
        "from sklearn.preprocessing import LabelEncoder\n",
        "df_3 = pd.read_csv(\"/content/AICP_TechFest_ML_Comp_FinanceInsight_3/AICP_TechFest_ML_Comp_FinanceInsight_3.csv\")\n",
        "df = df_3\n",
        "df.info()\n",
        "columns_to_drop = [\n",
        "    'Resolution_Status' ,'Industry_Risk', 'Resolution_Type',\n",
        "    'Communication_Channel', 'Satisfaction_Level', 'Customer_Type',\n",
        "    'Payment_Method', 'Contact_Channel', 'Feedback_Type','Tags'\n",
        "]\n",
        "df.drop(columns=columns_to_drop, inplace=True)\n",
        "\n",
        "#dropping textual data\n",
        "\n",
        "columns_to_drop = [\n",
        "   'Consumer_complaint_narrative','Sub-issue','Issue','Sub-product'\n",
        "]\n",
        "df.drop(columns=columns_to_drop, inplace=True)\n",
        "\n",
        "#dropping demographics\n",
        "\n",
        "columns_to_drop = [\n",
        "   'ZIP_code','State','Company','Date_received','Date_sent_to_company','Complaint_ID','Submitted_via'\n",
        "]\n",
        "df.drop(columns=columns_to_drop, inplace=True)\n",
        "\n",
        "\n",
        "\n",
        "df = df.dropna()\n",
        "\n",
        "# Create a label encoder\n",
        "label_encoder = LabelEncoder()\n",
        "\n",
        "for column in df.columns:\n",
        "    if df[column].dtype == 'object':\n",
        "        df[column] = label_encoder.fit_transform(df[column])\n",
        "\n",
        "df.info()"
      ],
      "metadata": {
        "id": "7sdICwcXTSTp"
      },
      "execution_count": null,
      "outputs": []
    },
    {
      "cell_type": "code",
      "source": [
        "from sklearn import svm\n",
        "from sklearn.model_selection import train_test_split\n",
        "from sklearn.metrics import accuracy_score, classification_report\n",
        "\n",
        "y = df['Resolution_Status']\n",
        "X = df.drop(['Resolution_Status'],axis=1)\n",
        "\n",
        "X_train, X_test, y_train, y_test = train_test_split(X, y, test_size=0.2, random_state=42)\n",
        "\n",
        "model = svm.SVC(kernel='linear')\n",
        "model.fit(X_train, y_train)\n",
        "\n",
        "# Make predictions on the testing data\n",
        "y_pred = model.predict(X_test)\n",
        "\n",
        "# Evaluate the model\n",
        "accuracy = accuracy_score(y_test, y_pred)\n",
        "classification_rep = classification_report(y_test, y_pred)\n",
        "\n",
        "# Print the results\n",
        "print(f\"Accuracy: {accuracy}\")\n",
        "print(\"\\nClassification Report:\")\n",
        "print(classification_rep)\n"
      ],
      "metadata": {
        "id": "Aj1PvJEA24OT"
      },
      "execution_count": null,
      "outputs": []
    },
    {
      "cell_type": "code",
      "source": [
        "y = df['Product']\n",
        "X = df.drop(['Product'],axis=1)\n"
      ],
      "metadata": {
        "id": "EkS-FlGxjhgN"
      },
      "execution_count": 33,
      "outputs": []
    },
    {
      "cell_type": "code",
      "source": [
        "from sklearn.ensemble import RandomForestClassifier\n",
        "from sklearn.metrics import accuracy_score, classification_report\n",
        "from sklearn.model_selection import train_test_split\n",
        "\n",
        "# Assuming 'X' is your feature matrix and 'y' is your target variable\n",
        "\n",
        "# Split the data into training and testing sets\n",
        "X_train, X_test, y_train, y_test = train_test_split(X, y, test_size=0.2, random_state=42)\n",
        "\n",
        "# Create a Random Forest model\n",
        "model = RandomForestClassifier(n_estimators=100, random_state=42)\n",
        "\n",
        "# Train the model on the training data\n",
        "model.fit(X_train, y_train)\n",
        "\n",
        "# Make predictions on the testing data\n",
        "y_pred = model.predict(X_test)\n",
        "\n",
        "# Evaluate the model\n",
        "accuracy = accuracy_score(y_test, y_pred)\n",
        "classification_rep = classification_report(y_test, y_pred)\n",
        "\n",
        "# Print the results\n",
        "print(f\"Accuracy: {accuracy}\")\n",
        "print(\"\\nClassification Report:\")\n",
        "print(classification_rep)\n"
      ],
      "metadata": {
        "colab": {
          "base_uri": "https://localhost:8080/"
        },
        "id": "8nLXwclJLAPA",
        "outputId": "76280e39-ba45-48ea-c6ce-b4caa17e8584"
      },
      "execution_count": 34,
      "outputs": [
        {
          "output_type": "stream",
          "name": "stdout",
          "text": [
            "Accuracy: 0.4733763212125241\n",
            "\n",
            "Classification Report:\n",
            "              precision    recall  f1-score   support\n",
            "\n",
            "           0       0.28      0.02      0.05      1404\n",
            "           1       0.12      0.00      0.01       629\n",
            "           2       0.45      0.26      0.33      1640\n",
            "           3       0.46      0.88      0.61      4353\n",
            "           4       0.58      0.63      0.60      3325\n",
            "           5       0.00      0.00      0.00        58\n",
            "           6       0.37      0.23      0.28      3105\n",
            "           7       0.00      0.00      0.00        22\n",
            "           8       0.00      0.00      0.00       109\n",
            "           9       0.00      0.00      0.00        71\n",
            "          10       0.20      0.01      0.02       326\n",
            "          11       0.00      0.00      0.00         1\n",
            "\n",
            "    accuracy                           0.47     15043\n",
            "   macro avg       0.21      0.17      0.16     15043\n",
            "weighted avg       0.42      0.47      0.41     15043\n",
            "\n"
          ]
        },
        {
          "output_type": "stream",
          "name": "stderr",
          "text": [
            "/usr/local/lib/python3.10/dist-packages/sklearn/metrics/_classification.py:1344: UndefinedMetricWarning: Precision and F-score are ill-defined and being set to 0.0 in labels with no predicted samples. Use `zero_division` parameter to control this behavior.\n",
            "  _warn_prf(average, modifier, msg_start, len(result))\n",
            "/usr/local/lib/python3.10/dist-packages/sklearn/metrics/_classification.py:1344: UndefinedMetricWarning: Precision and F-score are ill-defined and being set to 0.0 in labels with no predicted samples. Use `zero_division` parameter to control this behavior.\n",
            "  _warn_prf(average, modifier, msg_start, len(result))\n",
            "/usr/local/lib/python3.10/dist-packages/sklearn/metrics/_classification.py:1344: UndefinedMetricWarning: Precision and F-score are ill-defined and being set to 0.0 in labels with no predicted samples. Use `zero_division` parameter to control this behavior.\n",
            "  _warn_prf(average, modifier, msg_start, len(result))\n"
          ]
        }
      ]
    },
    {
      "cell_type": "code",
      "source": [],
      "metadata": {
        "id": "HO2WxonBgdCy"
      },
      "execution_count": null,
      "outputs": []
    }
  ]
}